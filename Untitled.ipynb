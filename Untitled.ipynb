{
 "cells": [
  {
   "cell_type": "code",
   "execution_count": 1,
   "id": "272e3032-83ec-4a90-bf62-525f04beab96",
   "metadata": {},
   "outputs": [],
   "source": [
    "import pandas as pd\n",
    "\n",
    "from science.science import Science"
   ]
  },
  {
   "cell_type": "code",
   "execution_count": 2,
   "id": "64207747-f9bb-4ac8-91e5-a97cef538fec",
   "metadata": {},
   "outputs": [],
   "source": [
    "from science import actual_science"
   ]
  },
  {
   "cell_type": "code",
   "execution_count": 4,
   "id": "8bffb933-6734-4539-a5b1-33832f52f3a4",
   "metadata": {},
   "outputs": [
    {
     "data": {
      "text/plain": [
       "Kerbin    25\n",
       "Mun       11\n",
       "Minmus     8\n",
       "Name: body, dtype: int64"
      ]
     },
     "execution_count": 4,
     "metadata": {},
     "output_type": "execute_result"
    }
   ],
   "source": [
    "actual_science.load()[1].body.value_counts()"
   ]
  },
  {
   "cell_type": "code",
   "execution_count": null,
   "id": "34e9328b-a347-43ce-a0e6-3ad9072eaa21",
   "metadata": {},
   "outputs": [],
   "source": []
  }
 ],
 "metadata": {
  "kernelspec": {
   "display_name": "Python 3",
   "language": "python",
   "name": "python3"
  },
  "language_info": {
   "codemirror_mode": {
    "name": "ipython",
    "version": 3
   },
   "file_extension": ".py",
   "mimetype": "text/x-python",
   "name": "python",
   "nbconvert_exporter": "python",
   "pygments_lexer": "ipython3",
   "version": "3.9.5"
  }
 },
 "nbformat": 4,
 "nbformat_minor": 5
}
